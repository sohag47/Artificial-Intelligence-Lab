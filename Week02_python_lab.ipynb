{
  "nbformat": 4,
  "nbformat_minor": 0,
  "metadata": {
    "colab": {
      "name": "Week02_python_lab.ipynb",
      "provenance": [],
      "authorship_tag": "ABX9TyNf5vN2RXqam3+8WhpNFmFI",
      "include_colab_link": true
    },
    "kernelspec": {
      "name": "python3",
      "display_name": "Python 3"
    }
  },
  "cells": [
    {
      "cell_type": "markdown",
      "metadata": {
        "id": "view-in-github",
        "colab_type": "text"
      },
      "source": [
        "<a href=\"https://colab.research.google.com/github/sohag47/Artificial-Intelligence-Lab/blob/master/Week02_python_lab.ipynb\" target=\"_parent\"><img src=\"https://colab.research.google.com/assets/colab-badge.svg\" alt=\"Open In Colab\"/></a>"
      ]
    },
    {
      "cell_type": "markdown",
      "metadata": {
        "id": "i5PHyi6DZB3Z"
      },
      "source": [
        "**IF statement**"
      ]
    },
    {
      "cell_type": "code",
      "metadata": {
        "id": "JxxtCJrcYyEj",
        "outputId": "110de3fd-c040-4392-b677-93537af98d4c",
        "colab": {
          "base_uri": "https://localhost:8080/",
          "height": 34
        }
      },
      "source": [
        "grade = 85\n",
        "if grade>=60:\n",
        "  print(\"passed\")"
      ],
      "execution_count": null,
      "outputs": [
        {
          "output_type": "stream",
          "text": [
            "passed\n"
          ],
          "name": "stdout"
        }
      ]
    },
    {
      "cell_type": "markdown",
      "metadata": {
        "id": "snShGHhKZGpu"
      },
      "source": [
        "**If else statement**"
      ]
    },
    {
      "cell_type": "code",
      "metadata": {
        "id": "nYDB2FtgZHdm",
        "outputId": "ae086626-8203-4736-e6f5-756f19feabeb",
        "colab": {
          "base_uri": "https://localhost:8080/",
          "height": 34
        }
      },
      "source": [
        "grade =85\n",
        "if grade>=60:\n",
        "  print(\"passed\")\n",
        "else:\n",
        "  print(\"fail\")"
      ],
      "execution_count": null,
      "outputs": [
        {
          "output_type": "stream",
          "text": [
            "passed\n"
          ],
          "name": "stdout"
        }
      ]
    },
    {
      "cell_type": "markdown",
      "metadata": {
        "id": "r9ok58GIZLXN"
      },
      "source": [
        "**Conditional expression**"
      ]
    },
    {
      "cell_type": "code",
      "metadata": {
        "id": "vpXsSh94ZMHl"
      },
      "source": [
        "result = ('Passed' if grade >= 60 else 'Failed')"
      ],
      "execution_count": null,
      "outputs": []
    },
    {
      "cell_type": "code",
      "metadata": {
        "id": "t5yJPGRDZOR1"
      },
      "source": [
        "print(result)"
      ],
      "execution_count": null,
      "outputs": []
    },
    {
      "cell_type": "markdown",
      "metadata": {
        "id": "ZLsJDrzPZT91"
      },
      "source": [
        "**IF...elif....else statement**"
      ]
    },
    {
      "cell_type": "code",
      "metadata": {
        "id": "Dq7XP81KZQkO",
        "outputId": "9011d506-3610-40a6-c3b7-bd8708ac3e19",
        "colab": {
          "base_uri": "https://localhost:8080/",
          "height": 34
        }
      },
      "source": [
        "grade = 77\n",
        "\n",
        "if grade >= 90:\n",
        "    print('A')\n",
        "elif grade >= 80:\n",
        "    print('B')\n",
        "elif grade >= 70:\n",
        "    print('C')\n",
        "elif grade >= 60:\n",
        "    print('D')\n",
        "else:\n",
        "    print('F')"
      ],
      "execution_count": null,
      "outputs": [
        {
          "output_type": "stream",
          "text": [
            "C\n"
          ],
          "name": "stdout"
        }
      ]
    },
    {
      "cell_type": "markdown",
      "metadata": {
        "id": "cChs_KupZZ8N"
      },
      "source": [
        "**While Statement**"
      ]
    },
    {
      "cell_type": "code",
      "metadata": {
        "id": "msTbwgjSZX7u",
        "outputId": "c347bb1e-f035-4553-9643-96a97aed9711",
        "colab": {
          "base_uri": "https://localhost:8080/",
          "height": 34
        }
      },
      "source": [
        "number = 1\n",
        "\n",
        "while (number<10):\n",
        "  print(number, end=\" \") #print in same line with space using end =\" \"\n",
        "  number+=1"
      ],
      "execution_count": null,
      "outputs": [
        {
          "output_type": "stream",
          "text": [
            "1 2 3 4 5 6 7 8 9 "
          ],
          "name": "stdout"
        }
      ]
    },
    {
      "cell_type": "markdown",
      "metadata": {
        "id": "zF_au4dJZcXN"
      },
      "source": [
        "**while statement to find the first power of 3 larger than 50:**"
      ]
    },
    {
      "cell_type": "code",
      "metadata": {
        "id": "P_RvDboDZfU8"
      },
      "source": [
        "product = 3\n",
        "\n",
        "while product<=50:\n",
        "  product = product*3"
      ],
      "execution_count": null,
      "outputs": []
    },
    {
      "cell_type": "code",
      "metadata": {
        "id": "aVYj_xs9ZjId",
        "outputId": "b1570b21-84f4-4f6d-c0fb-3dfa41732691",
        "colab": {
          "base_uri": "https://localhost:8080/",
          "height": 34
        }
      },
      "source": [
        "print(product)"
      ],
      "execution_count": null,
      "outputs": [
        {
          "output_type": "stream",
          "text": [
            "81\n"
          ],
          "name": "stdout"
        }
      ]
    },
    {
      "cell_type": "markdown",
      "metadata": {
        "id": "QM9ukTXsZlPl"
      },
      "source": [
        "**For statement**"
      ]
    },
    {
      "cell_type": "code",
      "metadata": {
        "id": "eD-SIAKRZl2l",
        "outputId": "de37babd-e149-41c9-ed27-1b7684f7f3f3",
        "colab": {
          "base_uri": "https://localhost:8080/",
          "height": 34
        }
      },
      "source": [
        "for character in \"programming\":\n",
        "  print(character, end=\" \")"
      ],
      "execution_count": null,
      "outputs": [
        {
          "output_type": "stream",
          "text": [
            "p r o g r a m m i n g "
          ],
          "name": "stdout"
        }
      ]
    },
    {
      "cell_type": "markdown",
      "metadata": {
        "id": "epVoyT6IZtcO"
      },
      "source": [
        "#**Built in Range Function**"
      ]
    },
    {
      "cell_type": "markdown",
      "metadata": {
        "id": "310Hcv8fZw2F"
      },
      "source": [
        "Let’s use a for statement and the built-in range function to iterate precisely 10 times, displaying the values from 0 through 9:"
      ]
    },
    {
      "cell_type": "code",
      "metadata": {
        "id": "OzTJOju8ZyuP",
        "outputId": "209d6e58-e299-441c-fbed-c9803587a607",
        "colab": {
          "base_uri": "https://localhost:8080/",
          "height": 34
        }
      },
      "source": [
        "for counter in range(10):\n",
        "  print(counter, end=\" \")"
      ],
      "execution_count": null,
      "outputs": [
        {
          "output_type": "stream",
          "text": [
            "0 1 2 3 4 5 6 7 8 9 "
          ],
          "name": "stdout"
        }
      ]
    },
    {
      "cell_type": "markdown",
      "metadata": {
        "id": "-ktaOiMuZ1SF"
      },
      "source": [
        "Use the range function and a for statement to calculate the total of the integers from 0 through 1,000,000."
      ]
    },
    {
      "cell_type": "code",
      "metadata": {
        "id": "78H1Uoj3Z2aV",
        "outputId": "417474fe-43d9-4580-8fc7-2f62c3a40b1a",
        "colab": {
          "base_uri": "https://localhost:8080/",
          "height": 34
        }
      },
      "source": [
        "total = 0\n",
        "for number in range(1000001):\n",
        "  total = total+number\n",
        "\n",
        "print(total)"
      ],
      "execution_count": null,
      "outputs": [
        {
          "output_type": "stream",
          "text": [
            "500000500000\n"
          ],
          "name": "stdout"
        }
      ]
    },
    {
      "cell_type": "markdown",
      "metadata": {
        "id": "ByT16MjXZ68v"
      },
      "source": [
        "Function range also has two- and three-argument versions. As you’ve seen, range’s one argument version produces a sequence of consecutive integers from 0 up to, but not including, the argument’s value. Function range’s two-argument version produces a sequence of consecutive integers from its first argument’s value up to, but not including, the second argument’s value, as in:"
      ]
    },
    {
      "cell_type": "code",
      "metadata": {
        "id": "KjGGAOvLZnx9",
        "outputId": "6e9511af-3f02-4826-c408-edb1c31f8235",
        "colab": {
          "base_uri": "https://localhost:8080/",
          "height": 34
        }
      },
      "source": [
        "for number in range(5,10):\n",
        "  print(number, end=\" \")"
      ],
      "execution_count": null,
      "outputs": [
        {
          "output_type": "stream",
          "text": [
            "5 6 7 8 9 "
          ],
          "name": "stdout"
        }
      ]
    },
    {
      "cell_type": "markdown",
      "metadata": {
        "id": "8-gdIaf-Z94-"
      },
      "source": [
        "Function range’s three-argument version produces a sequence of integers from its first argument’s value up to, but not including, the second argument’s value, incrementing by the third argument’s value, which is known as the step:"
      ]
    },
    {
      "cell_type": "code",
      "metadata": {
        "id": "LHcHnNSNaAHn",
        "outputId": "667294d5-5511-4ac8-ea72-1fb0b5e09144",
        "colab": {
          "base_uri": "https://localhost:8080/",
          "height": 34
        }
      },
      "source": [
        "for number in range(0,10,2):\n",
        "  print(number, end=\" \")"
      ],
      "execution_count": null,
      "outputs": [
        {
          "output_type": "stream",
          "text": [
            "0 2 4 6 8 "
          ],
          "name": "stdout"
        }
      ]
    },
    {
      "cell_type": "markdown",
      "metadata": {
        "id": "jTgFRIB8aEzF"
      },
      "source": [
        "If the third argument is negative, the sequence progresses from the first argument’s value down to, but not including the second argument’s value, decrementing by the third argument’s value, as in:"
      ]
    },
    {
      "cell_type": "code",
      "metadata": {
        "id": "9UsG6FtPaG1-",
        "outputId": "6e72d6fe-bbe7-4dff-96b8-b08d830541ac",
        "colab": {
          "base_uri": "https://localhost:8080/",
          "height": 34
        }
      },
      "source": [
        "for number in range(10,0,-2):\n",
        "  print(number, end=\" \")"
      ],
      "execution_count": null,
      "outputs": [
        {
          "output_type": "stream",
          "text": [
            "10 8 6 4 2 "
          ],
          "name": "stdout"
        }
      ]
    },
    {
      "cell_type": "markdown",
      "metadata": {
        "id": "voSwD9KlaJLF"
      },
      "source": [
        "Number table print using range function"
      ]
    },
    {
      "cell_type": "markdown",
      "metadata": {
        "id": "0woXwIf_aOJc"
      },
      "source": [
        "Take an input from user and print the number table"
      ]
    },
    {
      "cell_type": "code",
      "metadata": {
        "id": "ekKhKbJraMQW",
        "outputId": "a3cafb2d-78ac-45e9-d4ed-0393a2a11b7a",
        "colab": {
          "base_uri": "https://localhost:8080/",
          "height": 34
        }
      },
      "source": [
        "number =  int(input())"
      ],
      "execution_count": null,
      "outputs": [
        {
          "output_type": "stream",
          "text": [
            "10\n"
          ],
          "name": "stdout"
        }
      ]
    },
    {
      "cell_type": "code",
      "metadata": {
        "id": "aazLbTAMaSau",
        "outputId": "350438de-41b7-49b0-95b8-ddbdf07c22de",
        "colab": {
          "base_uri": "https://localhost:8080/",
          "height": 190
        }
      },
      "source": [
        "for i in range(1,11):\n",
        "  print(number,\"X\",i,\"=\",number*i)"
      ],
      "execution_count": null,
      "outputs": [
        {
          "output_type": "stream",
          "text": [
            "10 X 1 = 10\n",
            "10 X 2 = 20\n",
            "10 X 3 = 30\n",
            "10 X 4 = 40\n",
            "10 X 5 = 50\n",
            "10 X 6 = 60\n",
            "10 X 7 = 70\n",
            "10 X 8 = 80\n",
            "10 X 9 = 90\n",
            "10 X 10 = 100\n"
          ],
          "name": "stdout"
        }
      ]
    },
    {
      "cell_type": "markdown",
      "metadata": {
        "id": "lk9IFZ_aaVl9"
      },
      "source": [
        "**Nested For Loop**"
      ]
    },
    {
      "cell_type": "code",
      "metadata": {
        "id": "LxxlUtMeaUoc",
        "outputId": "a9635e6f-ec51-45d4-c542-bbbc94044dcb",
        "colab": {
          "base_uri": "https://localhost:8080/",
          "height": 138
        }
      },
      "source": [
        "for left in range(7):\n",
        "    for right in range(left,7):\n",
        "        print(\"[\"+str(left)+\"|\"+str(right)+\"]\", end =\" \")\n",
        "    print()"
      ],
      "execution_count": null,
      "outputs": [
        {
          "output_type": "stream",
          "text": [
            "[0|0] [0|1] [0|2] [0|3] [0|4] [0|5] [0|6] \n",
            "[1|1] [1|2] [1|3] [1|4] [1|5] [1|6] \n",
            "[2|2] [2|3] [2|4] [2|5] [2|6] \n",
            "[3|3] [3|4] [3|5] [3|6] \n",
            "[4|4] [4|5] [4|6] \n",
            "[5|5] [5|6] \n",
            "[6|6] \n"
          ],
          "name": "stdout"
        }
      ]
    },
    {
      "cell_type": "markdown",
      "metadata": {
        "id": "T5Qw5ERFaaQ-"
      },
      "source": [
        "**Break statement**"
      ]
    },
    {
      "cell_type": "code",
      "metadata": {
        "id": "8vExACIJaa5X",
        "outputId": "89c742fd-185d-420e-dfa9-df2f76b3ef01",
        "colab": {
          "base_uri": "https://localhost:8080/",
          "height": 34
        }
      },
      "source": [
        "for number in range(10):\n",
        "  if  number==5:\n",
        "    break\n",
        "  print(number, end=\" \")"
      ],
      "execution_count": null,
      "outputs": [
        {
          "output_type": "stream",
          "text": [
            "0 1 2 3 4 "
          ],
          "name": "stdout"
        }
      ]
    },
    {
      "cell_type": "markdown",
      "metadata": {
        "id": "H3cNwG8bacnu"
      },
      "source": [
        "**Continue statement**"
      ]
    },
    {
      "cell_type": "code",
      "metadata": {
        "id": "gO1xg7B4aebu",
        "outputId": "1fb1119f-26f1-4f58-e199-e359331b9d95",
        "colab": {
          "base_uri": "https://localhost:8080/",
          "height": 34
        }
      },
      "source": [
        "for number in range(10):\n",
        "  if  number==5:\n",
        "    continue\n",
        "  print(number, end=\" \")"
      ],
      "execution_count": 1,
      "outputs": [
        {
          "output_type": "stream",
          "text": [
            "0 1 2 3 4 6 7 8 9 "
          ],
          "name": "stdout"
        }
      ]
    },
    {
      "cell_type": "markdown",
      "metadata": {
        "id": "mDLf4aF0aqy9"
      },
      "source": [
        "# **Beginner Problem solving from Uri Online Judge**\n",
        "\n",
        "\n",
        "---\n",
        "\n",
        "# [Uri Online Judge](https://www.urionlinejudge.com.br/judge/en/problems/index/1)\n",
        "\n",
        "\n",
        "---\n",
        "\n",
        "\n",
        "> Some basic problem for practice\n",
        "\n",
        "\n",
        "> [Extremely Basic](https://www.urionlinejudge.com.br/judge/en/problems/view/1001)\n",
        "\n",
        "\n",
        "> [Area of a Circle](https://www.urionlinejudge.com.br/judge/en/problems/view/1002)\n",
        "\n",
        "> [Difference](https://www.urionlinejudge.com.br/judge/en/problems/view/1007)\n",
        "\n",
        "> [Age in Days](https://www.urionlinejudge.com.br/judge/en/problems/view/1020)\n",
        "\n",
        "\n"
      ]
    },
    {
      "cell_type": "markdown",
      "metadata": {
        "id": "jZQmUdyTbVan"
      },
      "source": [
        "# Extremely Basic"
      ]
    },
    {
      "cell_type": "markdown",
      "metadata": {
        "id": "me4mH-DUbp5d"
      },
      "source": [
        "Read 2 variables, named A and B and make the sum of these two variables, assigning its result to the variable X. Print X as shown below. Print endline after the result otherwise you will get “Presentation Error”."
      ]
    },
    {
      "cell_type": "code",
      "metadata": {
        "id": "dbY7gBlramMG",
        "outputId": "ebf86650-b9a1-436a-9c1e-bb8cf4bb13c4",
        "colab": {
          "base_uri": "https://localhost:8080/",
          "height": 69
        }
      },
      "source": [
        "A = int(input())\n",
        "B = int(input())\n",
        "X = A+B\n",
        "print(\"X = %i\"%X)"
      ],
      "execution_count": null,
      "outputs": [
        {
          "output_type": "stream",
          "text": [
            "12\n",
            "12\n",
            "X = 24\n"
          ],
          "name": "stdout"
        }
      ]
    },
    {
      "cell_type": "markdown",
      "metadata": {
        "id": "yBRqRXv-b9O-"
      },
      "source": [
        "#Area of a Circle"
      ]
    },
    {
      "cell_type": "markdown",
      "metadata": {
        "id": "NSgQlmctcGEv"
      },
      "source": [
        "The formula to calculate the area of a circumference is defined as A = π . R2 Considering to this problem that π = 3.14159: Calculate the area using the formula given in the problem description."
      ]
    },
    {
      "cell_type": "code",
      "metadata": {
        "id": "gVGcGD4db_6h",
        "outputId": "d2c8d90d-edcd-4435-ee42-a740797eb0c7",
        "colab": {
          "base_uri": "https://localhost:8080/",
          "height": 52
        }
      },
      "source": [
        "pi = 3.14159\n",
        "PI = float(pi)\n",
        "R = float(input())\n",
        "A = PI*R*R\n",
        "print(\"A=%.4f\"%A)"
      ],
      "execution_count": null,
      "outputs": [
        {
          "output_type": "stream",
          "text": [
            "2\n",
            "A=12.5664\n"
          ],
          "name": "stdout"
        }
      ]
    },
    {
      "cell_type": "markdown",
      "metadata": {
        "id": "_3aSQlThcT7m"
      },
      "source": [
        "#Difference"
      ]
    },
    {
      "cell_type": "markdown",
      "metadata": {
        "id": "_w3l4C_Zcby3"
      },
      "source": [
        "Read four integer values named A, B, C and D. Calculate and print the difference of product A and B by the product of C and D (A * B - C * D)."
      ]
    },
    {
      "cell_type": "code",
      "metadata": {
        "id": "dx2A7tjRcVMh",
        "outputId": "8b91ce88-fac7-4cdb-e616-43c83bfbfbc7",
        "colab": {
          "base_uri": "https://localhost:8080/",
          "height": 104
        }
      },
      "source": [
        "a = int(input())\n",
        "b = int(input())\n",
        "c = int(input())\n",
        "d = int(input())\n",
        "e = (a*b - c*d)\n",
        "print(\"DIFERENCA = %i\"%e)"
      ],
      "execution_count": null,
      "outputs": [
        {
          "output_type": "stream",
          "text": [
            "5\n",
            "6\n",
            "7\n",
            "8\n",
            "DIFERENCA = -26\n"
          ],
          "name": "stdout"
        }
      ]
    },
    {
      "cell_type": "markdown",
      "metadata": {
        "id": "jSeuMDSpcngY"
      },
      "source": [
        "#Age in Days"
      ]
    },
    {
      "cell_type": "markdown",
      "metadata": {
        "id": "oLpPBK7dcpCd"
      },
      "source": [
        "Read an integer value corresponding to a person's age (in days) and print it in years, months and days, followed by its respective message “ano(s)”, “mes(es)”, “dia(s)”.\n",
        "\n",
        "Note: only to facilitate the calculation, consider the whole year with 365 days and 30 days every month. In the cases of test there will never be a situation that allows 12 months and some days, like 360, 363 or 364. This is just an exercise for the purpose of testing simple mathematical reasoning."
      ]
    },
    {
      "cell_type": "code",
      "metadata": {
        "id": "mb9ieRmMcXhX",
        "outputId": "9cf8e70a-5687-4f48-838b-1f101fbde444",
        "colab": {
          "base_uri": "https://localhost:8080/",
          "height": 86
        }
      },
      "source": [
        "N = int(input())\n",
        "\n",
        "years = int(N / 365)\n",
        "months = int((N % 365) / 30)\n",
        "days = int((N % 365) % 30)\n",
        "\n",
        "print(repr(years)+\" \"+ \"ano(s)\")\n",
        "print(repr(months)+\" \"+ \"mes(es)\")\n",
        "print(repr(days)+\" \"+ \"dia(s)\")"
      ],
      "execution_count": null,
      "outputs": [
        {
          "output_type": "stream",
          "text": [
            "400\n",
            "1 ano(s)\n",
            "1 mes(es)\n",
            "5 dia(s)\n"
          ],
          "name": "stdout"
        }
      ]
    }
  ]
}